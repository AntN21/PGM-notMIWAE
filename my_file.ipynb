{
 "cells": [
  {
   "cell_type": "code",
   "execution_count": 1807,
   "metadata": {},
   "outputs": [],
   "source": [
    "import matplotlib.pyplot as plt\n",
    "import torch\n",
    "import torch.nn as nn\n",
    "import torch.nn.functional as F\n",
    "from torch.distributions import Distribution\n",
    "\n",
    "import numpy as np\n",
    "import pandas as pd"
   ]
  },
  {
   "cell_type": "code",
   "execution_count": 1808,
   "metadata": {},
   "outputs": [],
   "source": [
    "from typing import Any ,List"
   ]
  },
  {
   "cell_type": "markdown",
   "metadata": {},
   "source": [
    "General case:\n",
    "- Choose a prior for $Z$: $p(Z)$.\n",
    "- Choose an observation model: $p_\\theta(X|Z)$\n",
    "- Choose a variational posterior: $q_{\\gamma}(\\mathbf{z} | \\mathbf{x})$\n",
    "\n",
    "- Choose a missing model: $p_{\\phi}(\\mathbf{S} | \\mathbf{X^o, X^m})$\n",
    "\n",
    "\n",
    "The ELBO in the MNAR case is\n",
    "\n",
    "$$ E_{(\\mathbf{z}_1, \\mathbf{x}_1^m)...(\\mathbf{z}_K, \\mathbf{x}_K^m)} \\left[ \\log \\frac{1}{K} \\sum_{k=1}^K \\frac{p_{\\phi}(\\mathbf{s} | \\mathbf{x}^o, \\mathbf{x}_k^m) p_{\\theta}(\\mathbf{x}^o | \\mathbf{z}_k) p(\\mathbf{z}_k)}{q_{\\gamma}(\\mathbf{z} | \\mathbf{x}^o)} \\right]$$"
   ]
  },
  {
   "cell_type": "markdown",
   "metadata": {},
   "source": [
    "### Classic case\n",
    "The model we are building has a Gaussian prior and a Gaussian observation model (also the decoder ($z \\rightarrow x$) ),\n",
    "\n",
    "$$ p(\\mathbf{z}) = \\mathcal{N}(\\mathbf{z} | \\mathbf{0}, \\mathbf{I})$$\n",
    "\n",
    "$$ p_\\theta(\\mathbf{x} | \\mathbf{z}) = \\mathcal{N}(\\mathbf{x} | \\mathbf{\\mu}_{\\theta}(\\mathbf{z}), \\sigma^2\\mathbf{I})$$\n",
    "\n",
    "$$ p_\\theta(\\mathbf{x}) = \\int p_\\theta(\\mathbf{x} | \\mathbf{z})p(\\mathbf{z}) d\\mathbf{z}$$\n",
    "\n",
    "where $\\mathbf{\\mu}_{\\theta}(\\mathbf{z}): \\mathbb{R}^d \\rightarrow \\mathbb{R}^p $ in general is a deep neural net, but in this case is a linear mapping, $\\mathbf{\\mu} = \\mathbf{Wz + b}$.\n",
    "\n",
    "The variational posterior (also the encoder ($x \\rightarrow z$) ) is also Gaussian\n",
    "\n",
    "$$q_{\\gamma}(\\mathbf{z} | \\mathbf{x}) = \\mathcal{N}(\\mathbf{z} | \\mu_{\\gamma}(\\mathbf{x}), \\sigma_{\\gamma}(\\mathbf{x})^2 \\mathbf{I})$$\n",
    "\n",
    "If the missing process is *missing at random*, it is ignorable and the ELBO becomes, as described in [the MIWAE paper](https://arxiv.org/abs/1812.02633)\n",
    "\n",
    "$$ E_{\\mathbf{z}_1...\\mathbf{z}_K} \\left[ \\log \\frac{1}{K}\\sum_{k=1}^K \\frac{p_{\\theta}(\\mathbf{x^o} | \\mathbf{z}_k)p(\\mathbf{z}_k)}{q_{\\gamma}(\\mathbf{z}_k | \\mathbf{x^o})} \\right] $$\n",
    "\n",
    "When the missing process is MNAR it is non-ignorable and we need to include the missing model. In this example we include the missing model as a logistic regression in each feature dimension\n",
    "\n",
    "$$ p_{\\phi}(\\mathbf{s} | \\mathbf{x^o, x^m}) = \\text{Bern}(\\mathbf{s} | \\pi_{\\phi}(\\mathbf{x^o, x^m}))$$\n",
    "\n",
    "$$ \\pi_{\\phi, j}(x_j) = \\frac{1}{1 + e^{-\\text{logits}_j}} $$\n",
    "\n",
    "$$ \\text{logits}_j = W_j (x_j - b_j) $$\n",
    "\n",
    "The ELBO in the MNAR case becomes\n",
    "\n",
    "$$ E_{(\\mathbf{z}_1, \\mathbf{x}_1^m)...(\\mathbf{z}_K, \\mathbf{x}_K^m)} \\left[ \\log \\frac{1}{K} \\sum_{k=1}^K \\frac{p_{\\phi}(\\mathbf{s} | \\mathbf{x}^o, \\mathbf{x}_k^m) p_{\\theta}(\\mathbf{x}^o | \\mathbf{z}_k) p(\\mathbf{z}_k)}{q_{\\gamma}(\\mathbf{z} | \\mathbf{x}^o)} \\right]$$\n",
    "\n",
    "with $ z \\sim q_{\\gamma}(z|x^o), x^m\\sim p_\\theta(x^m|z)$"
   ]
  },
  {
   "cell_type": "markdown",
   "metadata": {},
   "source": [
    "### Constant to define\n",
    "\n",
    " - $K$ = $n_{\\text{samples}}$ the number of sample to estimate the expectation\n",
    " - $n_{\\text{latent}}$ the dimension of the latent space where $z$ lives\n"
   ]
  },
  {
   "cell_type": "markdown",
   "metadata": {},
   "source": [
    "### Load data\n",
    "Here we use the white-wine dataset from the UCI database"
   ]
  },
  {
   "cell_type": "code",
   "execution_count": 1809,
   "metadata": {},
   "outputs": [],
   "source": [
    "url = \"https://archive.ics.uci.edu/ml/machine-learning-databases/wine-quality/winequality-white.csv\"\n",
    "data = np.array(pd.read_csv(url, low_memory=False, sep=';'))\n",
    "# ---- drop the classification attribute\n",
    "data = data[:, :-1]"
   ]
  },
  {
   "cell_type": "markdown",
   "metadata": {},
   "source": [
    "### Settings"
   ]
  },
  {
   "cell_type": "code",
   "execution_count": 1810,
   "metadata": {},
   "outputs": [],
   "source": [
    "N, D = data.shape\n",
    "n_latent = D - 1\n",
    "n_hidden = 128\n",
    "n_samples = 20\n",
    "max_iter = 30000\n",
    "batch_size = 16"
   ]
  },
  {
   "cell_type": "markdown",
   "metadata": {},
   "source": [
    "### Standardize data"
   ]
  },
  {
   "cell_type": "code",
   "execution_count": 1811,
   "metadata": {},
   "outputs": [],
   "source": [
    "# ---- standardize data\n",
    "data = data - np.mean(data, axis=0)\n",
    "data = data / np.std(data, axis=0)\n",
    "\n",
    "# ---- random permutation\n",
    "p = np.random.permutation(N)\n",
    "data = data[p, :]\n",
    "\n",
    "# ---- we use the full dataset for training here, but you can make a train-val split\n",
    "Xtrain = data.copy()\n",
    "Xval = Xtrain.copy()"
   ]
  },
  {
   "cell_type": "markdown",
   "metadata": {},
   "source": [
    "### Introduce missing \n",
    "Here we denote\n",
    "- Xnan: data matrix with np.nan as the missing entries\n",
    "- Xz: data matrix with 0 as the missing entries\n",
    "- S: missing mask \n",
    "\n",
    "The missing process depends on the missing data itself:\n",
    "- in half the features, set the feature value to missing when it is higher than the feature mean"
   ]
  },
  {
   "cell_type": "code",
   "execution_count": null,
   "metadata": {},
   "outputs": [],
   "source": [
    "class Data():\n",
    "    def __init__(self, data:np.array) -> None:\n",
    "\n",
    "        self.data_org = data\n",
    "\n",
    "        \n",
    "        self.X_org = X.copy()\n",
    "        self.Xval_org = Xval.copy()\n",
    "        self.n, self.d = X.shape\n",
    "\n",
    "\n",
    "        self.S = np.array(~np.isnan(X), dtype=np.float32)\n",
    "        self.Sval = np.array(~np.isnan(Xval), dtype=np.float32)\n",
    "\n",
    "        if np.sum(self.S) < self.d * self.n:\n",
    "            self.X = self.X_org.copy()\n",
    "            self.X[np.isnan(self.X)] = 0\n",
    "            self.Xval = self.Xval_org.copy()\n",
    "            self.Xval[np.isnan(self.Xval)] = 0\n",
    "        else:\n",
    "            self.X = self.X_org\n",
    "            self.Xval = self.Xval_org"
   ]
  },
  {
   "cell_type": "code",
   "execution_count": 1812,
   "metadata": {},
   "outputs": [],
   "source": [
    "class MissingProcess():\n",
    "    def __init__(self) -> None:\n",
    "        pass\n",
    "    \n",
    "    def transform(self, data:np.array) ->np.array:\n",
    "        \"\"\"\n",
    "        Return the data with missing information\n",
    "        \"\"\"\n",
    "        pass"
   ]
  },
  {
   "cell_type": "code",
   "execution_count": null,
   "metadata": {},
   "outputs": [],
   "source": [
    "class MissingProcess():\n",
    "    def __init__(self) -> None:\n",
    "        pass\n",
    "    \n",
    "    def transform(self, data:np.array) ->np.array:\n",
    "        \"\"\"\n",
    "        Return the data with missing information\n",
    "        \"\"\"\n",
    "        pass"
   ]
  },
  {
   "cell_type": "code",
   "execution_count": 1813,
   "metadata": {},
   "outputs": [],
   "source": [
    "# ---- introduce missing process\n",
    "Xnan = Xtrain.copy()\n",
    "Xz = Xtrain.copy()\n",
    "\n",
    "mean = np.mean(Xnan[:, :int(D / 2)], axis=0)\n",
    "ix_larger_than_mean = Xnan[:, :int(D / 2)] > mean\n",
    "\n",
    "Xnan[:, :int(D / 2)][ix_larger_than_mean] = np.nan\n",
    "Xz[:, :int(D / 2)][ix_larger_than_mean] = 0\n",
    "\n",
    "S = np.array(~np.isnan(Xnan), dtype=np.float32)"
   ]
  },
  {
   "cell_type": "code",
   "execution_count": 1814,
   "metadata": {},
   "outputs": [],
   "source": [
    "def check_nan(tens,name=None):\n",
    "    if torch.isnan(tens).any().item():\n",
    "        print(name)\n",
    "        print(tens)"
   ]
  },
  {
   "cell_type": "code",
   "execution_count": 1815,
   "metadata": {},
   "outputs": [],
   "source": [
    "class Clip(nn.Module):\n",
    "    def __init__(self, *args, **kwargs) -> None:\n",
    "        super().__init__(*args, **kwargs)\n",
    "    \n",
    "    def forward(self, x):\n",
    "        return torch.clip(x,-10,10)"
   ]
  },
  {
   "cell_type": "code",
   "execution_count": 1816,
   "metadata": {},
   "outputs": [],
   "source": [
    "class Distributions():\n",
    "    def __init__(self) -> None:\n",
    "        \n",
    "        pass\n",
    "    def rsample(self, sample_shape):\n",
    "        print(\"Not implemented\")\n",
    "        pass\n",
    "    def log_prob(self, value):\n",
    "        print(\"Not implemented\")\n",
    "        pass"
   ]
  },
  {
   "cell_type": "code",
   "execution_count": 1817,
   "metadata": {},
   "outputs": [],
   "source": [
    "class GaussDistribution(Distributions):\n",
    "    \"\"\"\n",
    "    Gaussian distribution with mean (mu) and standard deviation (sigma).\n",
    "\n",
    "    Parameters:\n",
    "    - loc (Any): Mean of the distribution. Default is 0.\n",
    "    - scale (Any): Standard deviation of the distribution. Default is 1.\n",
    "\n",
    "    Methods:\n",
    "    - rsample(sample_shape): Generates random samples from the distribution.\n",
    "    - log_prob(value): Computes the log probability of a given value under the distribution.\n",
    "    \"\"\"\n",
    "\n",
    "    def __init__(self, loc: Any = 0., scale: Any = 1.) -> None:\n",
    "        \"\"\"\n",
    "        Initializes the Gaussian distribution with given mean and standard deviation.\n",
    "\n",
    "        Args:\n",
    "        - loc (Any): Mean of the distribution. Default is 0.\n",
    "        - scale (Any): Standard deviation of the distribution. Default is 1.\n",
    "        \"\"\"\n",
    "        super().__init__()\n",
    "        \n",
    "        if not torch.is_tensor(loc):\n",
    "            self.mu = torch.tensor(loc, dtype=torch.float32)\n",
    "        else:\n",
    "            self.mu = loc\n",
    "\n",
    "        if not torch.is_tensor(scale):\n",
    "            self.sigma = torch.tensor(scale, dtype=torch.float32)\n",
    "        else:\n",
    "            self.sigma = scale\n",
    "\n",
    "    def sample(self, sample_shape:torch.Size = torch.Size()):\n",
    "        \"\"\"\n",
    "        Generates random samples from the Gaussian distribution.\n",
    "\n",
    "        Args:\n",
    "        - sample_shape: Shape of the random samples to be generated.\n",
    "\n",
    "        Returns:\n",
    "        - samples: Random samples from the distribution.\n",
    "        \"\"\"\n",
    "        if not isinstance(sample_shape, torch.Size):\n",
    "            sample_shape = torch.Size(sample_shape)\n",
    "        \n",
    "        shape = sample_shape + self.mu.size()\n",
    "        with torch.no_grad():\n",
    "            eps = torch.randn(shape, dtype=self.mu.dtype)\n",
    "            return self.mu + eps * self.sigma\n",
    "    \n",
    "    def rsample(self, sample_shape:torch.Size = torch.Size()):\n",
    "        \"\"\"\n",
    "        Generates random samples from the Gaussian distribution.\n",
    "\n",
    "        Args:\n",
    "        - sample_shape: Shape of the random samples to be generated.\n",
    "\n",
    "        Returns:\n",
    "        - samples: Random samples from the distribution.\n",
    "        \"\"\"\n",
    "        if not isinstance(sample_shape, torch.Size):\n",
    "            sample_shape = torch.Size(sample_shape)\n",
    "        \n",
    "        shape = sample_shape + self.mu.size()\n",
    "\n",
    "        eps = torch.randn(shape, dtype=self.mu.dtype)\n",
    "        \n",
    "        return self.mu + eps * self.sigma\n",
    "    \n",
    "\n",
    "    def log_prob(self, value):\n",
    "        \"\"\"\n",
    "        Computes the log probability of a given value under the Gaussian distribution.\n",
    "\n",
    "        Args:\n",
    "        - value: Tensor of values for which log probabilities are computed.\n",
    "\n",
    "        Returns:\n",
    "        - log_p: Log probabilities of the given values.\n",
    "        \"\"\"\n",
    "        eps = torch.finfo(torch.float32).eps\n",
    "\n",
    "        log_p = -0.5 * torch.log(2 * torch.tensor(np.pi, dtype=torch.float32)) \\\n",
    "                - 0.5 * torch.log(self.sigma**2 + eps) \\\n",
    "                - 0.5 * torch.square(value - self.mu) / (self.sigma**2 + eps)\n",
    "\n",
    "        return log_p\n"
   ]
  },
  {
   "cell_type": "code",
   "execution_count": 1818,
   "metadata": {},
   "outputs": [],
   "source": [
    "class BernoulliDistribution(Distributions):\n",
    "    \"\"\"\n",
    "    Bernoulli distribution with parameter (p).\n",
    "\n",
    "    Parameters:\n",
    "    - p (Any): Probability of success. Default is 0.5.\n",
    "\n",
    "    Methods:\n",
    "    - sample(sample_shape): Generates random samples from the distribution.\n",
    "    - rsample(sample_shape): Generates random samples with reparameterization.\n",
    "    - log_prob(value): Computes the log probability of a given value under the distribution.\n",
    "    \"\"\"\n",
    "\n",
    "    def __init__(self, probs: Any = None, logits = None) -> None:\n",
    "        \"\"\"\n",
    "        Initializes the Bernoulli distribution with the given probability.\n",
    "\n",
    "        Args:\n",
    "        - probs (Any): Probability of success. Default is 0.5.\n",
    "        \"\"\"\n",
    "        super().__init__()\n",
    "        if probs is not None:\n",
    "            if not torch.is_tensor(probs):\n",
    "                p = torch.tensor(probs, dtype=torch.float32)\n",
    "            else:\n",
    "                p = probs\n",
    "        \n",
    "        elif logits is not None:\n",
    "            if not torch.is_tensor(logits):\n",
    "                logip = torch.tensor(logits, dtype=torch.float32)\n",
    "            else:\n",
    "                logip = logits\n",
    "            p = torch.sigmoid(logip)\n",
    "            \n",
    "        self.p = p\n",
    "\n",
    "    def sample(self, sample_shape: torch.Size = torch.Size()):\n",
    "        \"\"\"\n",
    "        Generates random samples from the Bernoulli distribution.\n",
    "\n",
    "        Args:\n",
    "        - sample_shape: Shape of the random samples to be generated.\n",
    "\n",
    "        Returns:\n",
    "        - samples: Random samples from the distribution.\n",
    "        \"\"\"\n",
    "        if not isinstance(sample_shape, torch.Size):\n",
    "            sample_shape = torch.Size(sample_shape)\n",
    "\n",
    "        with torch.no_grad():\n",
    "            samples = torch.bernoulli(self.p.expand(sample_shape + self.p.size()))\n",
    "            return samples\n",
    "\n",
    "\n",
    "    def log_prob(self, value):\n",
    "        \"\"\"\n",
    "        Computes the log probability of a given value under the Bernoulli distribution.\n",
    "\n",
    "        Args:\n",
    "        - value: Tensor of values for which log probabilities are computed.\n",
    "\n",
    "        Returns:\n",
    "        - log_p: Log probabilities of the given values.\n",
    "        \"\"\"\n",
    "        log_p = value * torch.log(self.p + 1e-12) + (1 - value) * torch.log(1 - self.p + 1e-12)\n",
    "        return log_p"
   ]
  },
  {
   "cell_type": "code",
   "execution_count": 1819,
   "metadata": {},
   "outputs": [],
   "source": [
    "RELU = \"relu\"\n",
    "TANH = \"tanh\""
   ]
  },
  {
   "cell_type": "code",
   "execution_count": 1820,
   "metadata": {},
   "outputs": [],
   "source": [
    "class MultiPerceptron(nn.Module):\n",
    "    def __init__(self, layer_sizes, activation: RELU or TANH = RELU, *args, **kwargs) -> None:\n",
    "        super().__init__(*args, **kwargs)\n",
    "\n",
    "        if activation == TANH:\n",
    "            activation = nn.Tanh\n",
    "        else:\n",
    "            activation = nn.ReLU\n",
    "\n",
    "        layers = [nn.Identity()]\n",
    "\n",
    "        for i in range(1, len(layer_sizes)):\n",
    "            layers.append(nn.Linear(layer_sizes[i-1], layer_sizes[i]))\n",
    "            layers.append(activation())\n",
    "\n",
    "        # Create the Sequential module with all the layers\n",
    "        self.mlp = nn.Sequential(*layers)\n",
    "    \n",
    "    def forward(self,x):\n",
    "        return self.mlp(x)\n"
   ]
  },
  {
   "cell_type": "code",
   "execution_count": 1821,
   "metadata": {},
   "outputs": [],
   "source": [
    "class ToGaussParams(nn.Module):\n",
    "    def __init__(self, input_size, output_size, *args, **kwargs):\n",
    "        super().__init__(*args, **kwargs)\n",
    "        \n",
    "        self.to_mu = nn.Linear(in_features=input_size, out_features=output_size)\n",
    "        self.to_logsigma2 = nn.Sequential(nn.Linear(in_features=input_size, out_features=output_size), Clip())\n",
    "\n",
    "    def forward(self, x):\n",
    "        return self.to_mu(x), self.to_logsigma2(x)\n",
    "    \n",
    "    "
   ]
  },
  {
   "cell_type": "code",
   "execution_count": 1822,
   "metadata": {},
   "outputs": [],
   "source": [
    "class GaussianCoder(nn.Module):\n",
    "    def __init__(self, input_size, output_size, hidden_layers = [32,32], activation: RELU or TANH = RELU, *args, **kwargs) -> None:\n",
    "        super().__init__(*args, **kwargs)\n",
    "\n",
    "        self.mlp = MultiPerceptron(layer_sizes=[input_size] + hidden_layers, activation=activation)\n",
    "\n",
    "        self.to_gauss_params = ToGaussParams(input_size=hidden_layers[-1], output_size=output_size)\n",
    "\n",
    "    def forward(self, x):\n",
    "        z = self.mlp(x)\n",
    "        return self.to_gauss_params(z)"
   ]
  },
  {
   "cell_type": "code",
   "execution_count": 1823,
   "metadata": {},
   "outputs": [],
   "source": [
    "class BiaisBeforeWeight(nn.Module):\n",
    "    def __init__(self, input_size, output_size, *args, **kwargs) -> None:\n",
    "        super().__init__(*args, **kwargs)\n",
    "\n",
    "        w_value = torch.randn(size=(input_size,output_size)) / np.sqrt(input_size*output_size)\n",
    "\n",
    "        b_value = torch.randn(size=(input_size,))\n",
    "\n",
    "        self.w = nn.Parameter(w_value)\n",
    "\n",
    "        self.b = nn.Parameter(b_value)\n",
    "\n",
    "    def forward(self, x):\n",
    "        return (x - self.b) @ self.w\n"
   ]
  },
  {
   "cell_type": "code",
   "execution_count": 1824,
   "metadata": {},
   "outputs": [],
   "source": [
    "class Logits(nn.Module):\n",
    "    def __init__(self, input_size, *args, **kwargs) -> None:\n",
    "        super().__init__(*args, **kwargs)\n",
    "\n",
    "        w_value = torch.randn(size=(input_size,))\n",
    "\n",
    "        b_value = torch.randn(size=(input_size,))\n",
    "\n",
    "        self.w = nn.Parameter(w_value)\n",
    "\n",
    "        self.b = nn.Parameter(b_value)\n",
    "\n",
    "    def forward(self, x):\n",
    "        return self.w * (x - self.b) "
   ]
  },
  {
   "cell_type": "code",
   "execution_count": 1825,
   "metadata": {},
   "outputs": [],
   "source": [
    "x = torch.ones(23,22,5)"
   ]
  },
  {
   "cell_type": "code",
   "execution_count": 1826,
   "metadata": {},
   "outputs": [
    {
     "name": "stdout",
     "output_type": "stream",
     "text": [
      "tensor([[[0., 0., 0., 0., 0.],\n",
      "         [1., 1., 1., 1., 1.],\n",
      "         [2., 2., 2., 2., 2.]],\n",
      "\n",
      "        [[0., 0., 0., 0., 0.],\n",
      "         [1., 1., 1., 1., 1.],\n",
      "         [2., 2., 2., 2., 2.]]])\n"
     ]
    },
    {
     "data": {
      "text/plain": [
       "tensor([[[-0., -1., -2., -3., -4.],\n",
       "         [ 0.,  0.,  0.,  0.,  0.],\n",
       "         [ 0.,  1.,  2.,  3.,  4.]],\n",
       "\n",
       "        [[-0., -1., -2., -3., -4.],\n",
       "         [ 0.,  0.,  0.,  0.,  0.],\n",
       "         [ 0.,  1.,  2.,  3.,  4.]]])"
      ]
     },
     "execution_count": 1826,
     "metadata": {},
     "output_type": "execute_result"
    }
   ],
   "source": [
    "input_size = 5\n",
    "x = torch.ones(2,3,input_size)\n",
    "x[:,:,:] = torch.arange(0,3)[None,:,None]\n",
    "w_value = torch.arange(0,input_size) #torch.ones(size=(input_size,))\n",
    "\n",
    "b_value = torch.ones(size=(input_size,))\n",
    "\n",
    "w = w_value\n",
    "\n",
    "b = b_value\n",
    "\n",
    "def forward(x):\n",
    "    return w * (x - b) \n",
    "\n",
    "print(x)\n",
    "forward(x)"
   ]
  },
  {
   "cell_type": "code",
   "execution_count": 1827,
   "metadata": {},
   "outputs": [],
   "source": [
    "GAUSS = \"gauss\"\n",
    "BERNOUILLI = \"bern\"\n",
    "STUDENT = \"student\"\n",
    "\n",
    "\n",
    "NOTMIWAE = \"not_miwae\"\n",
    "MIWAE = \"miwae\""
   ]
  },
  {
   "cell_type": "code",
   "execution_count": 1828,
   "metadata": {},
   "outputs": [
    {
     "data": {
      "text/plain": [
       "torch.distributions.normal.Normal"
      ]
     },
     "execution_count": 1828,
     "metadata": {},
     "output_type": "execute_result"
    }
   ],
   "source": [
    "torch.distributions.normal.Normal"
   ]
  },
  {
   "cell_type": "markdown",
   "metadata": {},
   "source": [
    "Ajouter d'autres méthodes inputation\n",
    "\n",
    "- k NN\n",
    "- Multi inputation method Murray\n",
    "- https://github.com/microsoft/EDDI"
   ]
  },
  {
   "cell_type": "code",
   "execution_count": 1829,
   "metadata": {},
   "outputs": [],
   "source": [
    "class notMIWAE(nn.Module):\n",
    "    #Only Gaussian and Bern for the moment\n",
    "    def __init__(self, input_size = 10, n_latent = 20, n_samples = 10, dist = GAUSS, loss: NOTMIWAE or MIWAE = NOTMIWAE,):\n",
    "        super(notMIWAE, self).__init__()\n",
    "\n",
    "        self.n_input = input_size\n",
    "        self.n_latent = n_latent\n",
    "        self.n_samples = n_samples\n",
    "\n",
    "        self.dist = dist\n",
    "\n",
    "        if self.dist == GAUSS:\n",
    "            self.encoder = GaussianCoder(input_size=self.n_input, output_size= n_latent)\n",
    "\n",
    "            self.decoder = GaussianCoder(input_size= self.n_latent, output_size= self.n_input)\n",
    "\n",
    "        self.logits = Logits(input_size) #, input_size) #nn.Linear(in_features=input_size, out_features=input_size)\n",
    "\n",
    "        self.sigma = torch.ones(n_latent)\n",
    "\n",
    "        self.prior = GaussDistribution(loc = 0., scale = 1.) # torch.distributions.normal.Normal(loc = 0., scale = 1.)\n",
    "        \n",
    "        # p(z|x) or q(z|x) might not be important but we should discuss it # could call it law_z_given_x_class / varational_posterior_model\n",
    "        self.law_z_given_x_class = GaussDistribution\n",
    "\n",
    "        # p(x|z) # could call it law_x_given_z_class / observation_model\n",
    "        self.law_x_given_z_class = GaussDistribution\n",
    "\n",
    "        if loss == NOTMIWAE:\n",
    "            self.loss = lambda lpsx, lpxz, lpz, lpzx : - self.notmiwae(lpsx, lpxz, lpz, lpzx)\n",
    "        elif loss == MIWAE:\n",
    "            self.loss = lambda lpsx, lpxz, lpz, lpzx : - self.miwae(lpsx, lpxz, lpz, lpzx)\n",
    "        else:\n",
    "            print(\"Error\")\n",
    "            print(f\"Only {NOTMIWAE} and {MIWAE} available.\")\n",
    "\n",
    "    \n",
    "    def compute_log_probs(self, x, s):\n",
    "        \"\"\"\n",
    "        x : the input of size (batch, input_size)\n",
    "        s : the mask of size (batch, input_size) s[i,j] = 1 if x[i,j] exists else 0\n",
    "\n",
    "        Return log_prob_s_given_x, log_prob_x_given_z, log_prob_z, log_prob_z_given_x of size (batch, n_sample, input_size)\n",
    "        \"\"\"\n",
    "        if self.dist == GAUSS:\n",
    "            z_mu, z_logsigma2 = self.encoder(x) # (batch, n_latent), (batch, n_latent)\n",
    "\n",
    "            z_sigma = torch.sqrt(torch.exp(z_logsigma2)) # (batch, n_latent)\n",
    "\n",
    "            law_z_given_x = torch.distributions.normal.Normal(loc = z_mu, scale = z_sigma) # Distribution with parameter of size (batch, n_latent)\n",
    "\n",
    "        \n",
    "        # Sampling and computing log_probs\n",
    "        z_samples = law_z_given_x.rsample((self.n_samples,)) # (n_samples, batch, n_latent)\n",
    "        log_prob_z_given_x = law_z_given_x.log_prob(z_samples).sum(dim=-1) # (n_samples, batch)\n",
    "        \n",
    "        # Transposing\n",
    "        z_samples = z_samples.transpose(0,1) # (batch, n_samples, n_latent)\n",
    "        log_prob_z_given_x = log_prob_z_given_x.transpose(0,1) # (batch, n_samples)\n",
    "\n",
    "\n",
    "        if self.dist == GAUSS:\n",
    "            x_mu, x_logsigma2 = self.decoder(z_samples) # (batch, n_samples, input_size), (batch, n_samples, input_size)\n",
    "\n",
    "            x_sigma = torch.sqrt(torch.exp(x_logsigma2)) # (batch, n_samples, input_size)\n",
    "\n",
    "            law_x_given_z = GaussDistribution(loc = x_mu, scale = x_sigma) # Distribution with parameter of size (batch, n_samples, input_size)\n",
    "\n",
    "        # Sampling and computing log_probs of the observed input\n",
    "        x_samples  = law_x_given_z.rsample() # (batch, n_samples, input_size)\n",
    "        log_prob_x_given_z = (law_x_given_z.log_prob(x.unsqueeze(1)) * s.unsqueeze(1)).sum(dim=-1) # (batch, n_samples)\n",
    "\n",
    "        # Prior\n",
    "        log_prob_z = self.prior.log_prob(z_samples).sum(dim=-1) # (batch, n_samples)\n",
    "        \n",
    "        # Missing mechanism\n",
    "        # We recreate the x_sample using the real x we know (x_o) and the x_samples we created from z (x_m).\n",
    "        mixed_x_samples = x_samples * (1-s).unsqueeze(1) + (x*s).unsqueeze(1) # (batch, n_samples, input_size)\n",
    "\n",
    "        logits = self.logits(mixed_x_samples) # (batch, n_samples, input_size)\n",
    "        law_s_given_x = BernoulliDistribution(logits=logits) # Distribution with parameter of size (batch, n_samples, input_size)\n",
    "\n",
    "        log_prob_s_given_x = law_s_given_x.log_prob(s.unsqueeze(1)).sum(dim=-1) # (batch, n_samples)\n",
    "\n",
    "        return log_prob_s_given_x, log_prob_x_given_z, log_prob_z, log_prob_z_given_x # (batch, n_samples)\n",
    "    \n",
    "    def compute_loss(self, x ,s):\n",
    "\n",
    "        return self.loss(*self.compute_log_probs(x,s))\n",
    "\n",
    "\n",
    "    def elbo(self, x, s):\n",
    "        \"\"\"\n",
    "        x : the input of size (batch, input_size)\n",
    "        s : the mask of size (batch, input_size) s[i,j] = 1 if x[i,j] exists else 0\n",
    "        \"\"\"\n",
    "        \n",
    "        z_mu = self.encoder_mu(x) # (batch, n_latent)\n",
    "        z_sigma = torch.sqrt(torch.exp(self.encoder_logsigma(x))) # (batch, n_latent)\n",
    "       \n",
    "        \n",
    "        law_z_given_x= self.law_z_given_x_class(loc = z_mu, scale = z_sigma) # Distribution with parameter of size (batch, n_latent)\n",
    "\n",
    "        z_samples = law_z_given_x.rsample((self.n_samples,)).squeeze() # (n_samples, batch, n_latent)\n",
    "\n",
    "        log_prob_z_given_x = law_z_given_x.log_prob(z_samples).sum(dim=-1) # (n_samples, batch)\n",
    "        \n",
    "        \n",
    "        z_samples = z_samples.transpose(0,1) # (batch, n_samples, n_latent)\n",
    "        log_prob_z_given_x = log_prob_z_given_x.transpose(0,1) # (batch, n_samples)\n",
    "\n",
    "        law_z = self.prior\n",
    "\n",
    "        log_prob_z = law_z.log_prob(z_samples).sum(dim=-1) # (batch, n_samples)\n",
    "\n",
    "\n",
    "\n",
    "        x_mu = self.decoder_mu(z_samples) # (batch, n_samples, input_size)\n",
    "        x_sigma = 1 # torch.sqrt(torch.exp(self.decoder_logsigma(z_samples) + 1e-5)) # (batch, n_samples, input_size)\n",
    "\n",
    "        law_x_given_z = self.law_x_given_z_class(loc = x_mu, scale = x_sigma) # Distribution with parameter of size (batch, n_samples, input_size)\n",
    "\n",
    "        x_samples  = law_x_given_z.rsample().squeeze() # (batch, n_samples, input_size)\n",
    "\n",
    "        log_prob_x_given_z = (law_x_given_z.log_prob(x.unsqueeze(1)) * s.unsqueeze(1)).sum(dim=-1) # (batch, n_samples)\n",
    "\n",
    "\n",
    "        \n",
    "        # Missing mechanism\n",
    "        \n",
    "        # We recreate the x_sample using the real x we know (x_o) and the x_samples we created from z (x_m).\n",
    "        mixed_x_samples = x_samples * (1-s).unsqueeze(1) + (x*s).unsqueeze(1) # (batch, n_samples, input_size)\n",
    "\n",
    "        logits = self.logits(mixed_x_samples) # (batch, n_samples, input_size)\n",
    "\n",
    "        law_s_given_x = torch.distributions.bernoulli.Bernoulli(logits=logits) # Distribution with parameter of size (batch, n_samples, input_size)\n",
    "\n",
    "        log_prob_s_given_x = law_s_given_x.log_prob(s.unsqueeze(1)).sum(dim=-1) # (batch, n_samples)\n",
    "\n",
    "\n",
    "        log_sum_w = torch.logsumexp(log_prob_s_given_x + log_prob_x_given_z + log_prob_z - log_prob_z_given_x, dim = 1) # (batch)\n",
    "        log_mean_w = log_sum_w - torch.log(torch.Tensor([self.n_samples])) # (batch)\n",
    "\n",
    "        \n",
    "        return  - log_mean_w.mean()\n",
    "    # law_z_given_x2 = torch.distributions.normal.Normal(loc=z_mu.unsqueeze(0), scale=z_sigma.unsqueeze(0))\n",
    "\n",
    "    def miwae(self, log_prob_s_given_x, log_prob_x_given_z, log_prob_z, log_prob_z_given_x):\n",
    "\n",
    "        log_sum_w = torch.logsumexp( log_prob_x_given_z + log_prob_z - log_prob_z_given_x, dim = 1) # (batch)\n",
    "        log_mean_w = log_sum_w - torch.log(torch.Tensor([self.n_samples])) # (batch)\n",
    "\n",
    "        return log_mean_w.mean()\n",
    "    \n",
    "    def notmiwae(self, log_prob_s_given_x, log_prob_x_given_z, log_prob_z, log_prob_z_given_x):\n",
    "\n",
    "        log_sum_w = torch.logsumexp( log_prob_s_given_x + log_prob_x_given_z + log_prob_z - log_prob_z_given_x, dim = 1) # (batch)\n",
    "        log_mean_w = log_sum_w - torch.log(torch.Tensor([self.n_samples])) # (batch)\n",
    "\n",
    "        return log_mean_w.mean()\n",
    "\n"
   ]
  },
  {
   "cell_type": "code",
   "execution_count": 1830,
   "metadata": {},
   "outputs": [
    {
     "name": "stdout",
     "output_type": "stream",
     "text": [
      "Couldn't find program: 'false'\n"
     ]
    }
   ],
   "source": [
    "%%script false --no-raise-error\n",
    "class notMIWAE(nn.Module):\n",
    "    #Only Gaussian and Bern for the moment\n",
    "    def __init__(self, input_size = 10, n_latent = 20, n_samples = 10, dist = GAUSS, loss: NOTMIWAE or MIWAE= NOTMIWAE,):\n",
    "        super(notMIWAE, self).__init__()\n",
    "\n",
    "        self.n_input = input_size\n",
    "        self.n_latent = n_latent\n",
    "        self.n_samples = n_samples\n",
    "\n",
    "        self.dist = dist\n",
    "\n",
    "        \n",
    "\n",
    "        self.encoder_mu = nn.Linear(in_features=input_size, out_features=n_latent)\n",
    "        self.encoder_logsigma = nn.Sequential(nn.Linear(in_features=input_size, out_features=n_latent),Clip())\n",
    "        \n",
    "        self.decoder_mu = nn.Linear(in_features=n_latent, out_features=input_size)\n",
    "        # self.decoder_logsigma = nn.Linear(in_features=n_latent, out_features=input_size)\n",
    "\n",
    "        # Missing mechanism\n",
    "        self.logits = nn.Linear(in_features=input_size, out_features=input_size)\n",
    "\n",
    "        self.sigma = torch.ones(n_latent)\n",
    "\n",
    "        self.prior = GaussDistribution(loc = 0., scale = 1.) # torch.distributions.normal.Normal(loc = 0., scale = 1.)\n",
    "        \n",
    "        # p(z|x) or q(z|x) might not be important but we should discuss it # could call it law_z_given_x_class / varational_posterior_model\n",
    "        self.law_z_given_x_class = GaussDistribution\n",
    "\n",
    "        # p(x|z) # could call it law_x_given_z_class / observation_model\n",
    "        self.law_x_given_z_class = GaussDistribution\n",
    "\n",
    "    \n",
    "    def compute_log_probs(self, x,s):\n",
    "        \"\"\"\n",
    "        x : the input of size (batch, input_size)\n",
    "        s : the mask of size (batch, input_size) s[i,j] = 1 if x[i,j] exists else 0\n",
    "\n",
    "        Return log_prob_s_given_x, log_prob_x_given_z, log_prob_z, log_prob_z_given_x of size (batch, n_sample, input_size)\n",
    "        \"\"\"\n",
    "\n",
    "\n",
    "        z_mu = self.encoder_mu(x) # (batch, n_latent)\n",
    "        z_sigma = torch.sqrt(torch.exp(self.encoder_logsigma(x))) # (batch, n_latent)\n",
    "       \n",
    "        \n",
    "        law_z_given_x= self.law_z_given_x_class(loc = z_mu, scale = z_sigma) # Distribution with parameter of size (batch, n_latent)\n",
    "\n",
    "        z_samples = law_z_given_x.rsample((self.n_samples,)).squeeze() # (n_samples, batch, n_latent)\n",
    "\n",
    "        log_prob_z_given_x = law_z_given_x.log_prob(z_samples).sum(dim=-1) # (n_samples, batch)\n",
    "        \n",
    "        \n",
    "        z_samples = z_samples.transpose(0,1) # (batch, n_samples, n_latent)\n",
    "        log_prob_z_given_x = log_prob_z_given_x.transpose(0,1) # (batch, n_samples)\n",
    "\n",
    "        law_z = self.prior\n",
    "\n",
    "        log_prob_z = law_z.log_prob(z_samples).sum(dim=-1) # (batch, n_samples)\n",
    "\n",
    "\n",
    "\n",
    "        x_mu = self.decoder_mu(z_samples) # (batch, n_samples, input_size)\n",
    "        x_sigma = 1 # torch.sqrt(torch.exp(self.decoder_logsigma(z_samples) + 1e-5)) # (batch, n_samples, input_size)\n",
    "\n",
    "        law_x_given_z = self.law_x_given_z_class(loc = x_mu, scale = x_sigma) # Distribution with parameter of size (batch, n_samples, input_size)\n",
    "\n",
    "        x_samples  = law_x_given_z.rsample().squeeze() # (batch, n_samples, input_size)\n",
    "\n",
    "        log_prob_x_given_z = (law_x_given_z.log_prob(x.unsqueeze(1)) * s.unsqueeze(1)).sum(dim=-1) # (batch, n_samples)\n",
    "\n",
    "\n",
    "        \n",
    "        # Missing mechanism\n",
    "        \n",
    "        # We recreate the x_sample using the real x we know (x_o) and the x_samples we created from z (x_m).\n",
    "        mixed_x_samples = x_samples * (1-s).unsqueeze(1) + (x*s).unsqueeze(1) # (batch, n_samples, input_size)\n",
    "\n",
    "        logits = self.logits(mixed_x_samples) # (batch, n_samples, input_size)\n",
    "\n",
    "        law_s_given_x = torch.distributions.bernoulli.Bernoulli(logits=logits) # Distribution with parameter of size (batch, n_samples, input_size)\n",
    "\n",
    "        log_prob_s_given_x = law_s_given_x.log_prob(s.unsqueeze(1)).sum(dim=-1) # (batch, n_samples)\n",
    "        return log_prob_s_given_x, log_prob_x_given_z, log_prob_z, log_prob_z_given_x\n",
    "\n",
    "    def elbo(self, x, s):\n",
    "        \"\"\"\n",
    "        x : the input of size (batch, input_size)\n",
    "        s : the mask of size (batch, input_size) s[i,j] = 1 if x[i,j] exists else 0\n",
    "        \"\"\"\n",
    "        \n",
    "        z_mu = self.encoder_mu(x) # (batch, n_latent)\n",
    "        z_sigma = torch.sqrt(torch.exp(self.encoder_logsigma(x))) # (batch, n_latent)\n",
    "       \n",
    "        \n",
    "        law_z_given_x= self.law_z_given_x_class(loc = z_mu, scale = z_sigma) # Distribution with parameter of size (batch, n_latent)\n",
    "\n",
    "        z_samples = law_z_given_x.rsample((self.n_samples,)).squeeze() # (n_samples, batch, n_latent)\n",
    "\n",
    "        log_prob_z_given_x = law_z_given_x.log_prob(z_samples).sum(dim=-1) # (n_samples, batch)\n",
    "        \n",
    "        \n",
    "        z_samples = z_samples.transpose(0,1) # (batch, n_samples, n_latent)\n",
    "        log_prob_z_given_x = log_prob_z_given_x.transpose(0,1) # (batch, n_samples)\n",
    "\n",
    "        law_z = self.prior\n",
    "\n",
    "        log_prob_z = law_z.log_prob(z_samples).sum(dim=-1) # (batch, n_samples)\n",
    "\n",
    "\n",
    "\n",
    "        x_mu = self.decoder_mu(z_samples) # (batch, n_samples, input_size)\n",
    "        x_sigma = 1 # torch.sqrt(torch.exp(self.decoder_logsigma(z_samples) + 1e-5)) # (batch, n_samples, input_size)\n",
    "\n",
    "        law_x_given_z = self.law_x_given_z_class(loc = x_mu, scale = x_sigma) # Distribution with parameter of size (batch, n_samples, input_size)\n",
    "\n",
    "        x_samples  = law_x_given_z.rsample().squeeze() # (batch, n_samples, input_size)\n",
    "\n",
    "        log_prob_x_given_z = (law_x_given_z.log_prob(x.unsqueeze(1)) * s.unsqueeze(1)).sum(dim=-1) # (batch, n_samples)\n",
    "\n",
    "\n",
    "        \n",
    "        # Missing mechanism\n",
    "        \n",
    "        # We recreate the x_sample using the real x we know (x_o) and the x_samples we created from z (x_m).\n",
    "        mixed_x_samples = x_samples * (1-s).unsqueeze(1) + (x*s).unsqueeze(1) # (batch, n_samples, input_size)\n",
    "\n",
    "        logits = self.logits(mixed_x_samples) # (batch, n_samples, input_size)\n",
    "\n",
    "        law_s_given_x = torch.distributions.bernoulli.Bernoulli(logits=logits) # Distribution with parameter of size (batch, n_samples, input_size)\n",
    "\n",
    "        log_prob_s_given_x = law_s_given_x.log_prob(s.unsqueeze(1)).sum(dim=-1) # (batch, n_samples)\n",
    "\n",
    "\n",
    "        log_sum_w = torch.logsumexp(log_prob_s_given_x + log_prob_x_given_z + log_prob_z - log_prob_z_given_x, dim = 1) # (batch)\n",
    "        log_mean_w = log_sum_w - torch.log(torch.Tensor([self.n_samples])) # (batch)\n",
    "\n",
    "        \n",
    "        return  - log_mean_w.mean()\n",
    "    # law_z_given_x2 = torch.distributions.normal.Normal(loc=z_mu.unsqueeze(0), scale=z_sigma.unsqueeze(0))\n",
    "\n",
    "    def elbo_notmiwae(self, log_prob_s_given_x, log_prob_x_given_z, log_prob_z, log_prob_z_given_x):\n",
    "        log_sum_w = torch.logsumexp( log_prob_x_given_z + log_prob_z - log_prob_z_given_x, dim = 1) # (batch)\n",
    "        log_mean_w = log_sum_w - torch.log(torch.Tensor([self.n_samples])) # (batch)\n",
    "\n",
    "        return log_mean_w.mean()\n",
    "    \n",
    "    def elbo_miwae(self,  log_prob_x_given_z, log_prob_z, log_prob_z_given_x):\n",
    "        log_sum_w = torch.logsumexp(log_prob_x_given_z + log_prob_z - log_prob_z_given_x, dim = 1) # (batch)\n",
    "        log_mean_w = log_sum_w - torch.log(torch.Tensor([self.n_samples])) # (batch)\n",
    "\n",
    "        return log_mean_w.mean()\n",
    "\n"
   ]
  },
  {
   "cell_type": "code",
   "execution_count": 1831,
   "metadata": {},
   "outputs": [
    {
     "name": "stdout",
     "output_type": "stream",
     "text": [
      "Epochs:1\n",
      "loss 13.457975387573242\n",
      "Epochs:2\n",
      "1100 / 4898\r"
     ]
    },
    {
     "name": "stdout",
     "output_type": "stream",
     "text": [
      "loss 13.418699264526367\n",
      "Epochs:3\n",
      "loss 13.43441390991211\n",
      "Epochs:4\n",
      "loss 12.73594856262207\n",
      "Epochs:5\n",
      "loss 12.495073318481445\n",
      "Epochs:6\n",
      "loss 13.211993217468262\n",
      "Epochs:7\n",
      "loss 12.766201972961426\n",
      "Epochs:8\n",
      "loss 12.48183536529541\n",
      "Epochs:9\n",
      "loss 12.641871452331543\n",
      "Epochs:10\n",
      "loss 12.519937515258789\n",
      "Epochs:11\n",
      "loss 12.434606552124023\n",
      "Epochs:12\n",
      "loss 12.802140235900879\n",
      "Epochs:13\n",
      "loss 12.47917366027832\n",
      "Epochs:14\n",
      "loss 14.048736572265625\n",
      "Epochs:15\n",
      "loss 13.840693473815918\n",
      "Epochs:16\n",
      "loss 13.781733512878418\n",
      "Epochs:17\n",
      "loss 15.680607795715332\n",
      "Epochs:18\n",
      "loss 13.323235511779785\n",
      "Epochs:19\n",
      "loss 13.188758850097656\n",
      "Epochs:20\n",
      "loss 12.879877090454102\n",
      "Epochs:21\n",
      "loss 13.260862350463867\n",
      "Epochs:22\n",
      "loss 12.771808624267578\n",
      "Epochs:23\n",
      "loss 12.70512866973877\n",
      "Epochs:24\n",
      "loss 12.639486312866211\n",
      "Epochs:25\n",
      "loss 13.701432228088379\n",
      "Epochs:26\n",
      "loss 12.641709327697754\n",
      "Epochs:27\n",
      "loss 12.69779109954834\n",
      "Epochs:28\n",
      "loss 12.543301582336426\n",
      "Epochs:29\n",
      "loss 13.03696060180664\n",
      "Epochs:30\n",
      "loss 12.613499641418457\n",
      "Epochs:31\n",
      "loss 13.07619571685791\n",
      "Epochs:32\n",
      "loss 13.073172569274902\n",
      "Epochs:33\n",
      "loss 12.611414909362793\n",
      "Epochs:34\n",
      "loss 12.590583801269531\n",
      "Epochs:35\n",
      "loss 12.71145248413086\n",
      "Epochs:36\n",
      "loss 12.720252990722656\n",
      "Epochs:37\n",
      "loss 12.802069664001465\n",
      "Epochs:38\n",
      "loss 12.55081844329834\n",
      "Epochs:39\n",
      "loss 12.666373252868652\n",
      "Epochs:40\n",
      "loss 13.27586555480957\n",
      "Epochs:41\n",
      "loss 12.707972526550293\n",
      "Epochs:42\n",
      "loss 12.690775871276855\n",
      "Epochs:43\n",
      "loss 12.720287322998047\n",
      "Epochs:44\n",
      "loss 12.81678581237793\n",
      "Epochs:45\n",
      "loss 12.648701667785645\n",
      "Epochs:46\n",
      "loss 12.571813583374023\n",
      "Epochs:47\n",
      "loss 13.579330444335938\n",
      "Epochs:48\n",
      "loss 12.844035148620605\n",
      "Epochs:49\n",
      "loss 12.676213264465332\n",
      "Epochs:50\n",
      "loss 12.591148376464844\n",
      "Epochs:51\n",
      "loss 13.723929405212402\n",
      "Epochs:52\n",
      "loss 12.67910099029541\n",
      "Epochs:53\n",
      "loss 12.766481399536133\n",
      "Epochs:54\n",
      "loss 12.909008979797363\n",
      "Epochs:55\n",
      "loss 14.14236831665039\n",
      "Epochs:56\n",
      "loss 13.766864776611328\n",
      "Epochs:57\n",
      "loss 12.612875938415527\n",
      "Epochs:58\n",
      "loss 13.052722930908203\n",
      "Epochs:59\n",
      "loss 12.57640552520752\n",
      "Epochs:60\n",
      "loss 12.525731086730957\n"
     ]
    }
   ],
   "source": [
    "N, nb_feats = Xtrain.shape\n",
    "X = torch.FloatTensor(Xz)\n",
    "S = torch.FloatTensor(S)\n",
    "batch_size = 100\n",
    "epochs = 60\n",
    "model = notMIWAE(input_size=nb_feats, n_samples=21)\n",
    "optimizer = torch.optim.Adam(model.parameters(), lr=0.1)\n",
    "for epoch in range(epochs):\n",
    "    print(f'Epochs:{epoch+1}')\n",
    "    p = np.random.permutation(N)\n",
    "    X = X[p,:]\n",
    "    S = S[p,:]\n",
    "    \n",
    "    for i in range(0,N,batch_size):\n",
    "        print(f'{i+batch_size} / {N}', end=\"\\r\")\n",
    "        X_batch = X[i:(i+batch_size)]\n",
    "        S_batch = S[i:(i+batch_size)]\n",
    "\n",
    "        if torch.isnan(X_batch).any().item():\n",
    "                print('NaN X_batch')\n",
    "        if torch.isnan(S_batch).any().item():\n",
    "                print('NaN S_batch')\n",
    "                \n",
    "        elbo = model.compute_loss(X_batch,S_batch)\n",
    "        \n",
    "        optimizer.zero_grad()\n",
    "        elbo.backward()\n",
    "        optimizer.step()\n",
    "        for param in model.parameters():\n",
    "            if torch.isnan(param).any().item():\n",
    "                print('NaN parameter')\n",
    "                print(torch.isnan(param).any().item())\n",
    "    \n",
    "    print('loss', model.compute_loss(X,S).item())\n",
    "        \n",
    "        \n"
   ]
  },
  {
   "cell_type": "markdown",
   "metadata": {},
   "source": [
    "Logits is not training."
   ]
  },
  {
   "cell_type": "code",
   "execution_count": 1832,
   "metadata": {},
   "outputs": [
    {
     "name": "stdout",
     "output_type": "stream",
     "text": [
      "[('w', Parameter containing:\n",
      "tensor([ -0.2820,  -0.2605, -13.0375,  -2.1066,  -2.5142,  -0.8340,  -2.4291,\n",
      "         -0.8267,  -5.0231,  -4.2071,   3.2251], requires_grad=True)), ('b', Parameter containing:\n",
      "tensor([-0.0854, -0.0403, -0.0609, -0.0522, -0.2660, 14.0800,  8.6217, 12.0738,\n",
      "         5.4177,  6.3231, -5.0271], requires_grad=True))]\n"
     ]
    }
   ],
   "source": [
    "print([(n,p) for n,p in model.logits.named_parameters()])"
   ]
  },
  {
   "cell_type": "code",
   "execution_count": 1833,
   "metadata": {},
   "outputs": [
    {
     "name": "stdout",
     "output_type": "stream",
     "text": [
      "[('w', Parameter containing:\n",
      "tensor([ -0.2820,  -0.2605, -13.0375,  -2.1066,  -2.5142,  -0.8340,  -2.4291,\n",
      "         -0.8267,  -5.0231,  -4.2071,   3.2251], requires_grad=True)), ('b', Parameter containing:\n",
      "tensor([-0.0854, -0.0403, -0.0609, -0.0522, -0.2660, 14.0800,  8.6217, 12.0738,\n",
      "         5.4177,  6.3231, -5.0271], requires_grad=True))]\n"
     ]
    }
   ],
   "source": [
    "print([(n,p) for n,p in model.logits.named_parameters()])"
   ]
  },
  {
   "cell_type": "code",
   "execution_count": 1834,
   "metadata": {},
   "outputs": [
    {
     "data": {
      "text/plain": [
       "array([-4.35067798e-16,  5.03884398e-16,  2.51035525e-17, -7.82120161e-17,\n",
       "        4.84634564e-16])"
      ]
     },
     "execution_count": 1834,
     "metadata": {},
     "output_type": "execute_result"
    }
   ],
   "source": [
    "mean"
   ]
  },
  {
   "cell_type": "code",
   "execution_count": 1835,
   "metadata": {},
   "outputs": [
    {
     "data": {
      "image/png": "[encoded data removed]",
      "text/plain": [
       "<Figure size 640x480 with 1 Axes>"
      ]
     },
     "metadata": {},
     "output_type": "display_data"
    }
   ],
   "source": [
    "x = torch.linspace(-2,2,20)\n",
    "tt = torch.zeros(x.size() + torch.Size([nb_feats]))\n",
    "with torch.no_grad():\n",
    "    col = 1\n",
    "    tt[:,col] = x \n",
    "    logits = model.logits(tt)\n",
    "    p_s_given_x = np.array(torch.sigmoid(logits))[:,col]\n",
    "    plt.plot(x,p_s_given_x)"
   ]
  },
  {
   "cell_type": "code",
   "execution_count": 1836,
   "metadata": {},
   "outputs": [
    {
     "data": {
      "text/plain": [
       "<matplotlib.legend.Legend at 0x24372758150>"
      ]
     },
     "execution_count": 1836,
     "metadata": {},
     "output_type": "execute_result"
    },
    {
     "data": {
      "image/png": "[encoded data removed]",
      "text/plain": [
       "<Figure size 640x480 with 1 Axes>"
      ]
     },
     "metadata": {},
     "output_type": "display_data"
    }
   ],
   "source": [
    "x = torch.linspace(-2,2,100)\n",
    "\n",
    "with torch.no_grad():\n",
    "    logits = model.logits(x.unsqueeze(-1).expand(x.size() + torch.Size([nb_feats])))\n",
    "    p_s_given_x = np.array(torch.sigmoid(logits))\n",
    "    plt.plot(x,p_s_given_x,label = [str(i) for i in range(11)])\n",
    "plt.legend(loc = 'lower left')"
   ]
  },
  {
   "cell_type": "code",
   "execution_count": 1837,
   "metadata": {},
   "outputs": [
    {
     "name": "stdout",
     "output_type": "stream",
     "text": [
      "[ -0.28195596  -0.2605177  -13.037458    -2.1065748   -2.514239\n",
      "  -0.8339632   -2.4290721   -0.8266785   -5.023058    -4.2070513\n",
      "   3.2251062 ] [-0.08537931 -0.04031962 -0.06092377 -0.05223881 -0.26595977 14.079991\n",
      "  8.621724   12.0738325   5.4177375   6.323107   -5.027139  ]\n"
     ]
    },
    {
     "data": {
      "image/png": "[encoded data removed]",
      "text/plain": [
       "<Figure size 640x480 with 1 Axes>"
      ]
     },
     "metadata": {},
     "output_type": "display_data"
    }
   ],
   "source": [
    "_W, _b = model.logits.w.detach().numpy(), model.logits.b.detach().numpy()\n",
    "print(_W, _b)\n",
    "x = np.linspace(-2, 2, 100)\n",
    "\n",
    "def sigmoid(logits):\n",
    "    return 1 / (1 + np.exp(-logits))\n",
    "\n",
    "\n",
    "plt.figure()\n",
    "\n",
    "for d in range(D // 2):\n",
    "    logits = _W[d] * (x - _b[d])\n",
    "    psx = sigmoid(logits)\n",
    "    plt.plot(x, psx)\n",
    "\n",
    "plt.xlabel('feature value')\n",
    "plt.ylabel('$p(s|x)$')\n",
    "plt.show()\n",
    "plt.close()"
   ]
  },
  {
   "cell_type": "markdown",
   "metadata": {},
   "source": [
    "Depends on the initialization"
   ]
  },
  {
   "cell_type": "code",
   "execution_count": null,
   "metadata": {},
   "outputs": [],
   "source": []
  },
  {
   "cell_type": "code",
   "execution_count": 1838,
   "metadata": {},
   "outputs": [
    {
     "data": {
      "text/plain": [
       "4898"
      ]
     },
     "execution_count": 1838,
     "metadata": {},
     "output_type": "execute_result"
    }
   ],
   "source": [
    "N"
   ]
  },
  {
   "cell_type": "code",
   "execution_count": 1839,
   "metadata": {},
   "outputs": [
    {
     "name": "stdout",
     "output_type": "stream",
     "text": [
      "False\n",
      "False\n",
      "False\n",
      "False\n",
      "False\n",
      "False\n",
      "False\n",
      "False\n",
      "False\n",
      "False\n",
      "False\n",
      "False\n",
      "False\n",
      "False\n",
      "False\n",
      "False\n",
      "False\n",
      "False\n"
     ]
    }
   ],
   "source": [
    "for param in model.parameters():\n",
    "    print(torch.isnan(param).any().item())"
   ]
  },
  {
   "cell_type": "code",
   "execution_count": 1840,
   "metadata": {},
   "outputs": [
    {
     "name": "stdout",
     "output_type": "stream",
     "text": [
      "tensor([[-0.0640, -1.6160, -0.0969,  0.6396,  1.4429],\n",
      "        [ 0.7286,  0.1933,  0.5563,  0.6797,  0.1760],\n",
      "        [ 0.9306, -0.2685,  1.5226, -1.2278,  0.4318]])\n"
     ]
    }
   ],
   "source": [
    "law_z_given_x= torch.distributions.normal.Normal(loc = torch.zeros((3,5)), scale = torch.ones((3,5)))\n",
    "\n",
    "z_samples = law_z_given_x.sample((1,1)).squeeze()\n",
    "\n",
    "#check size probably need to transpose\n",
    "print(z_samples)\n",
    "log_prob_z_given_x = law_z_given_x.log_prob(z_samples)\n"
   ]
  },
  {
   "cell_type": "code",
   "execution_count": 1841,
   "metadata": {},
   "outputs": [
    {
     "name": "stdout",
     "output_type": "stream",
     "text": [
      "tensor([[-0.9210, -2.2246, -0.9236, -1.1235, -1.9599],\n",
      "        [-1.1843, -0.9376, -1.0737, -1.1499, -0.9344],\n",
      "        [-1.3519, -0.9550, -2.0782, -1.6727, -1.0122]])\n"
     ]
    }
   ],
   "source": [
    "print( log_prob_z_given_x)"
   ]
  },
  {
   "cell_type": "code",
   "execution_count": 1842,
   "metadata": {},
   "outputs": [
    {
     "data": {
      "text/plain": [
       "-1.2360650132046727"
      ]
     },
     "execution_count": 1842,
     "metadata": {},
     "output_type": "execute_result"
    }
   ],
   "source": [
    "a = np.array([ 0.7964,  0.9837, -0.1394,  0.5177, -0.8972])\n",
    "-0.7964**2 / 2 - 0.5 * np.log(2 * np.pi) "
   ]
  }
 ],
 "metadata": {
  "kernelspec": {
   "display_name": "Python 3",
   "language": "python",
   "name": "python3"
  },
  "language_info": {
   "codemirror_mode": {
    "name": "ipython",
    "version": 3
   },
   "file_extension": ".py",
   "mimetype": "text/x-python",
   "name": "python",
   "nbconvert_exporter": "python",
   "pygments_lexer": "ipython3",
   "version": "3.11.0"
  }
 },
 "nbformat": 4,
 "nbformat_minor": 2
}
